{
 "cells": [
  {
   "cell_type": "markdown",
   "id": "6da1ecf5",
   "metadata": {},
   "source": [
    "# Average the Multimeasurements for Reflection\n",
    "## Abstract\n",
    "- The Measuremnts for reflection where performed 3 at a time. Its necesarry to cut them up.\n",
    "- Cutting is performed on the transformed Impulses\n",
    "\n",
    "## Doing\n",
    "- Load Impulse Group\n",
    "- Cut it Up\n",
    "- Upsample\n",
    "- Average\n",
    "- Write to Imp File\n",
    "\n",
    "## Files\n",
    "From: TARGET_DIR/IMP_REC{Nr}.wav --> To: ./{Measurement Pos}.wav"
   ]
  },
  {
   "cell_type": "code",
   "execution_count": 1,
   "id": "f2fc5d75",
   "metadata": {
    "scrolled": true
   },
   "outputs": [],
   "source": [
    "# 1. Import, Base Settings (System) and Base Settings (User)\n",
    "from Z211014_reflection_definitions import *\n",
    "\n",
    "%matplotlib notebook\n",
    "plt.rcParams['axes.grid'] = True    # Set grid in plots on per default\n",
    "VERBOSE = False\n",
    "F_up = 500e3\n",
    "\n",
    "\n",
    "############################################################\n",
    "########## User Interaction Starts Here       ##############\n",
    "########## Please specify where the Files are ##############\n",
    "############################################################\n",
    "\n",
    "TARGET_DIR = 'C:/Users/gmeinwieserch/Desktop/04  St-Martha Kirche/211007_Martha/Impulse/'\n",
    "NAME = 'IMP_REC0%s.wav'\n",
    "\n",
    "NR = {'Wand_0_0'  : ['27'], # LR =   0, H =   0, NeutrH = 1.6\n",
    "      'Wand_+_0'  : ['28'], # LR = +.4, H =   0, NeutrH = 1.6\n",
    "      'Wand_-_0'  : ['29'], # LR = -.4, H =   0, NeutrH = 1.6\n",
    "      'Wand_0_+'  : ['30'], # LR =   0, H = +.4, NeutrH = 1.6\n",
    "      'Wand_0_-'  : ['31'], # LR =   0, H = -.4, NeutrH = 1.6\n",
    "      'Boden_1.5' : ['32'], # A  = 1.5, H = .93\n",
    "      'Boden_.2'  : ['33'], # A  =  .2, H = .93\n",
    "      'Direct_.8' : ['35']} # A  =  .8, H = 2\n",
    "\n",
    "################################################################\n",
    "######### Please specify the exitation pars        #############\n",
    "################################################################\n",
    "par_sweep = [63, 10, 5e3]   # parameter of sweep [fstart, T, fend]\n"
   ]
  },
  {
   "cell_type": "code",
   "execution_count": 2,
   "id": "af1c9f6b",
   "metadata": {},
   "outputs": [],
   "source": [
    "for position in NR.keys():\n",
    "    #position = 'Wand_0_0'#for position in NR.keys():\n",
    "    all_imp = Signal(path = TARGET_DIR, name = NAME % (NR[position][0]))\n",
    "\n",
    "    all_cut = []\n",
    "    all_cut.append(all_imp.cut_signal(3,10))\n",
    "    all_cut.append(all_imp.cut_signal(17,24))\n",
    "    all_cut.append(all_imp.cut_signal(33,40))\n",
    "    \n",
    "    cut_up = [imp.resample(F_up) for imp in all_cut]\n",
    "    rotate_sig_lst(cut_up)\n",
    "\n",
    "    end_cut = int(3.2/cut_up[0].dt)   # min([el.n_tot for el in cut_up])\n",
    "    imp_avg = Signal(signal_lst_imp = [sig.cut_signal(t_start=0, t_end=.1, force_n = end_cut) for sig in cut_up])\n",
    "    imp_avg_down = imp_avg.resample(48e3)\n",
    "    imp_avg_down.write_wav(name = 'IMP_' + position + '.wav',F_samp= 48e3)"
   ]
  },
  {
   "cell_type": "code",
   "execution_count": null,
   "id": "37f73ab5",
   "metadata": {},
   "outputs": [],
   "source": []
  }
 ],
 "metadata": {
  "kernelspec": {
   "display_name": "Python 3",
   "language": "python",
   "name": "python3"
  },
  "language_info": {
   "codemirror_mode": {
    "name": "ipython",
    "version": 3
   },
   "file_extension": ".py",
   "mimetype": "text/x-python",
   "name": "python",
   "nbconvert_exporter": "python",
   "pygments_lexer": "ipython3",
   "version": "3.8.5"
  },
  "varInspector": {
   "cols": {
    "lenName": 16,
    "lenType": 16,
    "lenVar": 40
   },
   "kernels_config": {
    "python": {
     "delete_cmd_postfix": "",
     "delete_cmd_prefix": "del ",
     "library": "var_list.py",
     "varRefreshCmd": "print(var_dic_list())"
    },
    "r": {
     "delete_cmd_postfix": ") ",
     "delete_cmd_prefix": "rm(",
     "library": "var_list.r",
     "varRefreshCmd": "cat(var_dic_list()) "
    }
   },
   "position": {
    "height": "781.85px",
    "left": "1537px",
    "right": "20px",
    "top": "107px",
    "width": "350px"
   },
   "types_to_exclude": [
    "module",
    "function",
    "builtin_function_or_method",
    "instance",
    "_Feature"
   ],
   "window_display": true
  }
 },
 "nbformat": 4,
 "nbformat_minor": 5
}
